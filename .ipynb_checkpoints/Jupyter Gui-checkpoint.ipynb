{
 "cells": [
  {
   "cell_type": "code",
   "execution_count": 1,
   "metadata": {},
   "outputs": [],
   "source": [
    "from ipywidgets.widgets import Label, FloatProgress, FloatSlider, Button\n",
    "from ipywidgets.widgets import Layout, HBox, VBox\n",
    "import numpy as np\n",
    "import bqplot as bq\n",
    "import time\n",
    "import threading"
   ]
  },
  {
   "cell_type": "code",
   "execution_count": 2,
   "metadata": {},
   "outputs": [],
   "source": [
    "flag = True\n",
    "\n",
    "x = np.linspace(0, 2 * np.pi, 500)\n",
    "dx = x[1] - x[0]\n",
    "y = 1 + np.sin(x)"
   ]
  },
  {
   "cell_type": "code",
   "execution_count": 10,
   "metadata": {},
   "outputs": [],
   "source": [
    "b_stop = Button(description = 'Stop',\n",
    "                icon = 'stop',\n",
    "                button_style = 'warning',\n",
    "                layout = Layout(width='100px')\n",
    ")\n",
    "\n",
    "def stop_click(b):\n",
    "    global flag \n",
    "    flag = False\n",
    "    \n",
    "    b_stop.widget.children[0].description = 'Start'\n",
    "    display(app)\n",
    "    \n",
    "def start_click(b):\n",
    "    global flag\n",
    "    flag = True\n",
    "    \n",
    "    b_stop.description = 'Stop'\n",
    "    b_stop.on_click(stop_click)\n",
    "    \n",
    "b_stop.on_click(stop_click)\n",
    "\n",
    "w1 = FloatProgress(\n",
    "    value = y[-1],\n",
    "    min = 0,\n",
    "    max = 2,\n",
    "    description = 'PV: ',\n",
    "    style = {'description_width': 'initial'},\n",
    "    layout = Layout(width = '365px')\n",
    ")\n",
    "\n",
    "w2 = Label(\n",
    "    value = str(np.round(y[-1], 2)),\n",
    "    layout = Layout(margin = '0 10px 0 31px')\n",
    ")\n",
    "\n",
    "w12 = HBox(\n",
    "    children = (w1, w2),\n",
    "    layout = Layout(margin='0 0 0 43px')\n",
    ")\n",
    "\n",
    "wA = FloatSlider(\n",
    "    value = 0,\n",
    "    min = 0,\n",
    "    max = 0.5,\n",
    "    step = 0.01,\n",
    "    desription = 'Noise:',\n",
    "    layout = Layout(width = '490px', margin = '0 0 5px 0')\n",
    ")\n",
    "\n"
   ]
  },
  {
   "cell_type": "code",
   "execution_count": 4,
   "metadata": {},
   "outputs": [],
   "source": [
    "x_sc = bq.LinearScale()\n",
    "y_sc = bq.LinearScale()\n",
    "\n",
    "x_ax = bq.Axis(\n",
    "    label = 'x(t)',\n",
    "    scale = x_sc\n",
    ")\n",
    "\n",
    "y_ax = bq.Axis(\n",
    "    label = 'y(t)',\n",
    "    scale = y_sc,\n",
    "    orientation = 'vertical'\n",
    ")\n",
    "\n",
    "line = bq.Lines(\n",
    "    x = x,\n",
    "    y = y,\n",
    "    scales = {'x': x_sc, 'y': y_sc}\n",
    ")\n",
    "\n",
    "fig = bq.Figure(\n",
    "    layout = Layout(width = '500px', height = '300px'),\n",
    "    axes = [x_ax, y_ax],\n",
    "    marks = [line],\n",
    "    fig_margin = dict(top=10, bottom = 40, left = 50, right = 10)\n",
    ")\n",
    "\n"
   ]
  },
  {
   "cell_type": "code",
   "execution_count": null,
   "metadata": {},
   "outputs": [],
   "source": [
    "box = VBox(\n",
    "    children = (fig, w12, wA),\n",
    "    layout = Layout(border = 'solid 2px gray', width = '510px')\n",
    ")\n",
    "\n",
    "app = VBox(\n",
    "    children = (b_stop, box)\n",
    ")"
   ]
  },
  {
   "cell_type": "code",
   "execution_count": 6,
   "metadata": {},
   "outputs": [],
   "source": [
    "def work():\n",
    "    global x, y\n",
    "    \n",
    "    while flag:\n",
    "        A = wA.value\n",
    "        \n",
    "        x = np.delete(x, 0)\n",
    "        y = np.delete(y, 0)\n",
    "        \n",
    "        x = np.append(x, x[-1] + dx)\n",
    "        noise = A * np.random.rand()\n",
    "        y = np.append(y, 1 + np.sin(x[-1]) + noise)\n",
    "        \n",
    "        w1.value = y[-1]\n",
    "        w2.value = str(np.round(y[-1], 2))\n",
    "        \n",
    "        line.x = x\n",
    "        line.y = y\n",
    "        \n",
    "        time.sleep(0.05)\n",
    "        \n",
    "        "
   ]
  },
  {
   "cell_type": "code",
   "execution_count": 11,
   "metadata": {},
   "outputs": [
    {
     "data": {
      "application/vnd.jupyter.widget-view+json": {
       "model_id": "9dfba6deee384c6f91b6a262e212da43",
       "version_major": 2,
       "version_minor": 0
      },
      "text/plain": [
       "VBox(children=(Button(button_style='warning', description='Stop', icon='stop', layout=Layout(width='100px'), s…"
      ]
     },
     "metadata": {},
     "output_type": "display_data"
    }
   ],
   "source": [
    "flag = True\n",
    "\n",
    "thread = threading.Thread(target = work)\n",
    "\n",
    "display(app)\n",
    "\n",
    "thread.start()"
   ]
  }
 ],
 "metadata": {
  "kernelspec": {
   "display_name": "Python 3",
   "language": "python",
   "name": "python3"
  },
  "language_info": {
   "codemirror_mode": {
    "name": "ipython",
    "version": 3
   },
   "file_extension": ".py",
   "mimetype": "text/x-python",
   "name": "python",
   "nbconvert_exporter": "python",
   "pygments_lexer": "ipython3",
   "version": "3.8.3"
  }
 },
 "nbformat": 4,
 "nbformat_minor": 4
}
