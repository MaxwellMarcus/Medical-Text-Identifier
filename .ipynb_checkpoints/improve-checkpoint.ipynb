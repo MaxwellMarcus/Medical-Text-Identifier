{
 "cells": [
  {
   "cell_type": "code",
   "execution_count": 2,
   "metadata": {},
   "outputs": [],
   "source": [
    "import os\n",
    "import cv2\n",
    "import numpy as np\n",
    "from tqdm import tqdm\n",
    "import torch\n",
    "import torch.nn as nn\n",
    "import torch.nn.functional as F\n",
    "import torch.optim as optim\n",
    "import net as neural_net"
   ]
  },
  {
   "cell_type": "code",
   "execution_count": 25,
   "metadata": {},
   "outputs": [],
   "source": [
    "net = neural_net.Net()\n",
    "net.load_weights('trained_data.npy')"
   ]
  },
  {
   "cell_type": "code",
   "execution_count": 31,
   "metadata": {},
   "outputs": [
    {
     "name": "stderr",
     "output_type": "stream",
     "text": [
      "100%|█████████████████████████████████████████████████████████████████████████████████████████████████████████████████████████████████████████████████████████████████████████████████████████████████████████████████████████████████████████████████████████████████████████████████████████████████████████████| 99730/99730 [06:35<00:00, 252.08it/s]\n",
      "100%|█████████████████████████████████████████████████████████████████████████████████████████████████████████████████████████████████████████████████████████████████████████████████████████████████████████████████████████████████████████████████████████████████████████████████████████████████████████████| 99730/99730 [06:15<00:00, 265.71it/s]\n"
     ]
    }
   ],
   "source": [
    "TEXT = 'Text'#os.path.join('Training Data', 'Text')\n",
    "NOTEXT = 'No Text'#os.path.join('Training Data', 'No Text')\n",
    "\n",
    "labels = {TEXT: 0, NOTEXT: 1}\n",
    "\n",
    "incorrect = 0\n",
    "\n",
    "for label in labels:\n",
    "    for file in tqdm(os.listdir(os.path.join('Training Data', label))):\n",
    "        try:\n",
    "            path = os.path.join('Training Data', label, file)\n",
    "            \n",
    "            img = cv2.imread(path, cv2.IMREAD_GRAYSCALE)\n",
    "            img = cv2.resize(img, (128, 64))\n",
    "            \n",
    "            array = torch.Tensor(img).to(neural_net.device).view(-1, 128, 64)/255.0\n",
    "            \n",
    "            net_out = net(array.view(-1, 1, 128, 64))[0]\n",
    "            predicted_label = torch.argmax(net_out)\n",
    "            real_label = labels[label]\n",
    "            \n",
    "            if not predicted_label == real_label:\n",
    "                incorrect += 1\n",
    "                cv2.imwrite(os.path.join('Incorrect Data', label, file), img)\n",
    "            \n",
    "            \n",
    "        except Exception as e:\n",
    "            print(e)\n",
    "            \n",
    "            \n",
    "            "
   ]
  },
  {
   "cell_type": "code",
   "execution_count": 30,
   "metadata": {},
   "outputs": [
    {
     "data": {
      "text/plain": [
       "6450"
      ]
     },
     "execution_count": 30,
     "metadata": {},
     "output_type": "execute_result"
    }
   ],
   "source": [
    "incorrect"
   ]
  }
 ],
 "metadata": {
  "kernelspec": {
   "display_name": "Python 3",
   "language": "python",
   "name": "python3"
  },
  "language_info": {
   "codemirror_mode": {
    "name": "ipython",
    "version": 3
   },
   "file_extension": ".py",
   "mimetype": "text/x-python",
   "name": "python",
   "nbconvert_exporter": "python",
   "pygments_lexer": "ipython3",
   "version": "3.8.3"
  }
 },
 "nbformat": 4,
 "nbformat_minor": 4
}
